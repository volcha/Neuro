{
 "cells": [
  {
   "attachments": {},
   "cell_type": "markdown",
   "metadata": {},
   "source": [
    "Лабораторная работа № 7 по Нейроинформатике\n",
    "\n",
    "Автоассоциативные сети с узким горлом\n",
    "\n",
    "Выполнила: Тимофеева Наталья М8О-408Б-19\n",
    "\n",
    "Вариант № 8"
   ]
  },
  {
   "cell_type": "code",
   "execution_count": 316,
   "metadata": {},
   "outputs": [],
   "source": [
    "import numpy as np\n",
    "import torch\n",
    "import torch.nn as nn\n",
    "import matplotlib.pyplot as plt\n",
    "from timeit import default_timer as timer\n",
    "from tqdm import tqdm\n",
    "from matplotlib.widgets import Slider, Button\n",
    "from torch import optim\n",
    "import torch.utils.data.dataloader"
   ]
  },
  {
   "cell_type": "code",
   "execution_count": 317,
   "metadata": {},
   "outputs": [],
   "source": [
    "def unpickle(file):\n",
    "    import pickle\n",
    "    with open(file, 'rb') as fo:\n",
    "        dictionary = pickle.load(fo, encoding='latin1')\n",
    "    return dictionary"
   ]
  },
  {
   "attachments": {},
   "cell_type": "markdown",
   "metadata": {},
   "source": [
    "Функция для загрузки датасета"
   ]
  },
  {
   "cell_type": "code",
   "execution_count": 318,
   "metadata": {},
   "outputs": [],
   "source": [
    "def load_train_data(path, needed_label):\n",
    "    data_dictionary = unpickle(path)\n",
    "    images = data_dictionary['data']\n",
    "    labels = data_dictionary['labels']\n",
    "    dataset = []\n",
    "    for image, label in zip(images, labels):\n",
    "        if label == needed_label:\n",
    "            image = np.asarray(image, dtype=np.float32)\n",
    "            image = (image - 127.5) / 127.5\n",
    "            dataset += [(image, image)]\n",
    "    return dataset"
   ]
  },
  {
   "cell_type": "code",
   "execution_count": 320,
   "metadata": {},
   "outputs": [],
   "source": [
    "core_data = None"
   ]
  },
  {
   "attachments": {},
   "cell_type": "markdown",
   "metadata": {},
   "source": [
    "Параметры модели"
   ]
  },
  {
   "cell_type": "code",
   "execution_count": 323,
   "metadata": {},
   "outputs": [],
   "source": [
    "epochs = 50\n",
    "width = 32\n",
    "height = 32\n",
    "dim_1 = width * height * 3\n",
    "dim_2 = int(dim_1 / 2)\n",
    "dim_3 = int(dim_1 / 8)"
   ]
  },
  {
   "cell_type": "code",
   "execution_count": 324,
   "metadata": {},
   "outputs": [],
   "source": [
    "encoder = nn.Sequential(\n",
    "    nn.Linear(in_features=dim_1, out_features=dim_2),\n",
    "    nn.ReLU(),\n",
    "    nn.Linear(in_features=dim_2, out_features=dim_3),\n",
    ")"
   ]
  },
  {
   "cell_type": "code",
   "execution_count": 325,
   "metadata": {},
   "outputs": [],
   "source": [
    "decoder = nn.Sequential(\n",
    "    nn.Linear(in_features=dim_3, out_features=dim_2),\n",
    "    nn.ReLU(),\n",
    "    nn.Linear(in_features=dim_2, out_features=dim_1),\n",
    "    nn.Tanh(),\n",
    ")"
   ]
  },
  {
   "cell_type": "code",
   "execution_count": 326,
   "metadata": {},
   "outputs": [],
   "source": [
    "optimizer_enc = optim.Adam(encoder.parameters(), lr=1e-3)\n",
    "optimizer_dec = optim.Adam(decoder.parameters(), lr=1e-3)"
   ]
  },
  {
   "attachments": {},
   "cell_type": "markdown",
   "metadata": {},
   "source": [
    "Добавляем в датасет нужные нам картинки (в данном случае - корабли)"
   ]
  },
  {
   "cell_type": "code",
   "execution_count": 327,
   "metadata": {},
   "outputs": [],
   "source": [
    "train_data = []\n",
    "train_data += load_train_data(path='cifar-10-batches-py/data_batch_1', needed_label=8)\n",
    "train_data += load_train_data(path='cifar-10-batches-py/data_batch_2', needed_label=8)\n",
    "train_data += load_train_data(path='cifar-10-batches-py/data_batch_3', needed_label=8)\n",
    "train_data += load_train_data(path='cifar-10-batches-py/data_batch_4', needed_label=8)\n",
    "train_data += load_train_data(path='cifar-10-batches-py/data_batch_5', needed_label=8)\n",
    "np.random.shuffle(train_data)"
   ]
  },
  {
   "cell_type": "code",
   "execution_count": 328,
   "metadata": {},
   "outputs": [],
   "source": [
    "train_loader = torch.utils.data.DataLoader(train_data, batch_size=128, shuffle=True)"
   ]
  },
  {
   "cell_type": "code",
   "execution_count": 329,
   "metadata": {},
   "outputs": [
    {
     "name": "stdout",
     "output_type": "stream",
     "text": [
      "dim_1: 3072, dim_2: 1536, dim_3: 384, samples: 5000\n"
     ]
    }
   ],
   "source": [
    "print('dim_1: %d, dim_2: %d, dim_3: %d, samples: %d' % (dim_1, dim_2, dim_3, len(train_data)))"
   ]
  },
  {
   "attachments": {},
   "cell_type": "markdown",
   "metadata": {},
   "source": [
    "Обучаем"
   ]
  },
  {
   "cell_type": "code",
   "execution_count": 330,
   "metadata": {},
   "outputs": [
    {
     "data": {
      "text/plain": [
       "Sequential(\n",
       "  (0): Linear(in_features=3072, out_features=1536, bias=True)\n",
       "  (1): ReLU()\n",
       "  (2): Linear(in_features=1536, out_features=384, bias=True)\n",
       ")"
      ]
     },
     "execution_count": 330,
     "metadata": {},
     "output_type": "execute_result"
    }
   ],
   "source": [
    "encoder.train()"
   ]
  },
  {
   "cell_type": "code",
   "execution_count": 331,
   "metadata": {},
   "outputs": [
    {
     "data": {
      "text/plain": [
       "Sequential(\n",
       "  (0): Linear(in_features=384, out_features=1536, bias=True)\n",
       "  (1): ReLU()\n",
       "  (2): Linear(in_features=1536, out_features=3072, bias=True)\n",
       "  (3): Tanh()\n",
       ")"
      ]
     },
     "execution_count": 331,
     "metadata": {},
     "output_type": "execute_result"
    }
   ],
   "source": [
    "decoder.train()"
   ]
  },
  {
   "cell_type": "code",
   "execution_count": 332,
   "metadata": {},
   "outputs": [
    {
     "name": "stderr",
     "output_type": "stream",
     "text": [
      "1. loss: 0.224675: : 40it [00:04,  8.33it/s]\n",
      "2. loss: 0.196523: : 40it [00:05,  7.99it/s]\n",
      "3. loss: 0.182502: : 40it [00:05,  7.44it/s]\n",
      "4. loss: 0.209097: : 40it [00:05,  7.80it/s]\n",
      "5. loss: 0.203979: : 40it [00:05,  7.85it/s]\n",
      "6. loss: 0.161094: : 40it [00:05,  7.78it/s]\n",
      "7. loss: 0.158519: : 40it [00:05,  7.76it/s]\n",
      "8. loss: 0.143580: : 40it [00:05,  7.86it/s]\n",
      "9. loss: 0.145133: : 40it [00:05,  7.63it/s]\n",
      "10. loss: 0.155023: : 40it [00:05,  7.57it/s]\n",
      "11. loss: 0.146745: : 40it [00:05,  7.61it/s]\n",
      "12. loss: 0.146516: : 40it [00:05,  6.79it/s]\n",
      "13. loss: 0.139975: : 40it [00:05,  7.18it/s]\n",
      "14. loss: 0.151509: : 40it [00:05,  7.84it/s]\n",
      "15. loss: 0.124382: : 40it [00:05,  7.95it/s]\n",
      "16. loss: 0.133508: : 40it [00:05,  7.80it/s]\n",
      "17. loss: 0.130204: : 40it [00:06,  5.99it/s]\n",
      "18. loss: 0.127807: : 40it [00:06,  5.90it/s]\n",
      "19. loss: 0.143672: : 40it [00:06,  6.05it/s]\n",
      "20. loss: 0.121971: : 40it [00:06,  6.48it/s]\n",
      "21. loss: 0.120503: : 40it [00:05,  7.26it/s]\n",
      "22. loss: 0.120137: : 40it [00:05,  7.20it/s]\n",
      "23. loss: 0.120580: : 40it [00:05,  7.51it/s]\n",
      "24. loss: 0.127784: : 40it [00:05,  7.64it/s]\n",
      "25. loss: 0.130993: : 40it [00:05,  7.70it/s]\n",
      "26. loss: 0.124951: : 40it [00:05,  7.57it/s]\n",
      "27. loss: 0.123358: : 40it [00:05,  7.59it/s]\n",
      "28. loss: 0.119264: : 40it [00:05,  7.71it/s]\n",
      "29. loss: 0.105792: : 40it [00:05,  7.69it/s]\n",
      "30. loss: 0.122979: : 40it [00:05,  7.56it/s]\n",
      "31. loss: 0.109907: : 40it [00:05,  7.64it/s]\n",
      "32. loss: 0.115673: : 40it [00:05,  7.71it/s]\n",
      "33. loss: 0.110333: : 40it [00:05,  7.66it/s]\n",
      "34. loss: 0.115676: : 40it [00:05,  7.60it/s]\n",
      "35. loss: 0.115192: : 40it [00:05,  7.55it/s]\n",
      "36. loss: 0.117144: : 40it [00:05,  7.53it/s]\n",
      "37. loss: 0.105520: : 40it [00:05,  7.72it/s]\n",
      "38. loss: 0.116776: : 40it [00:05,  7.79it/s]\n",
      "39. loss: 0.100081: : 40it [00:05,  7.78it/s]\n",
      "40. loss: 0.113009: : 40it [00:05,  7.62it/s]\n",
      "41. loss: 0.112333: : 40it [00:05,  7.80it/s]\n",
      "42. loss: 0.104607: : 40it [00:05,  7.73it/s]\n",
      "43. loss: 0.110516: : 40it [00:05,  7.60it/s]\n",
      "44. loss: 0.113862: : 40it [00:05,  7.69it/s]\n",
      "45. loss: 0.109413: : 40it [00:05,  7.69it/s]\n",
      "46. loss: 0.109565: : 40it [00:05,  7.66it/s]\n",
      "47. loss: 0.111937: : 40it [00:05,  7.66it/s]\n",
      "48. loss: 0.113179: : 40it [00:05,  7.62it/s]\n",
      "49. loss: 0.110691: : 40it [00:05,  7.90it/s]\n",
      "50. loss: 0.103791: : 40it [00:05,  7.86it/s]\n"
     ]
    }
   ],
   "source": [
    "train_loss = []\n",
    "start_time = timer()\n",
    "for i in range(epochs):\n",
    "    pbar = tqdm(enumerate(train_loader))\n",
    "    for j, (input, output_gt) in pbar:\n",
    "        output_enc = encoder(input)\n",
    "        output_dec = decoder(output_enc)\n",
    "        crit = nn.MSELoss()\n",
    "        loss = torch.sqrt(crit(output_gt, output_dec))\n",
    "        train_loss += [loss.item()]\n",
    "        optimizer_enc.zero_grad()\n",
    "        optimizer_dec.zero_grad()\n",
    "        loss.backward()\n",
    "        optimizer_enc.step()\n",
    "        optimizer_dec.step()\n",
    "        pbar.set_description('%d. loss: %f' % (i + 1, train_loss[-1]))\n",
    "end_time = timer()"
   ]
  },
  {
   "cell_type": "code",
   "execution_count": 333,
   "metadata": {},
   "outputs": [
    {
     "name": "stdout",
     "output_type": "stream",
     "text": [
      "Время обучения = 266 секунд\n",
      "Количество эпох = 50\n"
     ]
    }
   ],
   "source": [
    "print('Время обучения = {0} секунд'.format(int(end_time - start_time)))\n",
    "print('Количество эпох = {0}'.format(epochs))"
   ]
  },
  {
   "cell_type": "code",
   "execution_count": 334,
   "metadata": {},
   "outputs": [
    {
     "data": {
      "text/plain": [
       "Sequential(\n",
       "  (0): Linear(in_features=3072, out_features=1536, bias=True)\n",
       "  (1): ReLU()\n",
       "  (2): Linear(in_features=1536, out_features=384, bias=True)\n",
       ")"
      ]
     },
     "execution_count": 334,
     "metadata": {},
     "output_type": "execute_result"
    }
   ],
   "source": [
    "encoder.eval()"
   ]
  },
  {
   "cell_type": "code",
   "execution_count": 335,
   "metadata": {},
   "outputs": [
    {
     "data": {
      "text/plain": [
       "Sequential(\n",
       "  (0): Linear(in_features=384, out_features=1536, bias=True)\n",
       "  (1): ReLU()\n",
       "  (2): Linear(in_features=1536, out_features=3072, bias=True)\n",
       "  (3): Tanh()\n",
       ")"
      ]
     },
     "execution_count": 335,
     "metadata": {},
     "output_type": "execute_result"
    }
   ],
   "source": [
    "decoder.eval()"
   ]
  },
  {
   "attachments": {},
   "cell_type": "markdown",
   "metadata": {},
   "source": [
    "Функция делает из вектора картинку"
   ]
  },
  {
   "cell_type": "code",
   "execution_count": 381,
   "metadata": {},
   "outputs": [],
   "source": [
    "def plain_to_image(image, width=32, height=32):\n",
    "    image = (image + 1) / 2\n",
    "    image = np.reshape(image, (3, height, width))\n",
    "    image = np.transpose(image, [1, 2, 0])\n",
    "    return image"
   ]
  },
  {
   "attachments": {},
   "cell_type": "markdown",
   "metadata": {},
   "source": [
    "Функция для отрисовки результатов"
   ]
  },
  {
   "cell_type": "code",
   "execution_count": 380,
   "metadata": {},
   "outputs": [],
   "source": [
    "def draw_pictires(axes_get, axes_out, axes_mod, encoder, decoder, data):\n",
    "    global core_data\n",
    "    image = data[np.random.randint(low=0, high=len(data))][0]\n",
    "    encoder_out = encoder(torch.from_numpy(image)).detach().numpy()\n",
    "    decoder_out = decoder(torch.from_numpy(encoder_out)).detach().numpy()\n",
    "    core_data = np.copy(encoder_out)\n",
    "    mod_out = core_data + np.random.rand(384)\n",
    "    mod_out = decoder(torch.from_numpy(mod_out).to(torch.float32)).detach().numpy()\n",
    "    axes_get.set_array(plain_to_image(image))\n",
    "    axes_out.set_array(plain_to_image(decoder_out))\n",
    "    axes_mod.set_array(plain_to_image(mod_out))\n",
    "    plt.draw()"
   ]
  },
  {
   "attachments": {},
   "cell_type": "markdown",
   "metadata": {},
   "source": [
    "Отрисовываем результаты"
   ]
  },
  {
   "cell_type": "code",
   "execution_count": 379,
   "metadata": {},
   "outputs": [
    {
     "data": {
      "image/png": "[encoded data removed]",
      "text/plain": [
       "<Figure size 1000x650 with 4 Axes>"
      ]
     },
     "metadata": {},
     "output_type": "display_data"
    }
   ],
   "source": [
    "fig, axes = plt.subplots(2, 2, figsize=(10, 6.5))\n",
    "fig.tight_layout(h_pad = 4, w_pad = 4)\n",
    "\n",
    "axes[0, 0].set_title('Функция потерь')\n",
    "axes[0, 0].set_xlabel('Эпоха')\n",
    "axes[0, 0].set_ylabel('MSE')\n",
    "axes[0, 0].plot(train_loss)\n",
    "\n",
    "axes[0, 1].set_title('Вход')\n",
    "axes[0, 1].set_aspect(1)\n",
    "ax_gt = axes[0, 1].imshow([[0]])\n",
    "\n",
    "axes[1, 0].set_title('Модифицированный выход')\n",
    "axes[1, 0].set_aspect(1)\n",
    "ax_mod = axes[1, 0].imshow([[0]])\n",
    "\n",
    "axes[1, 1].set_title('Выход')\n",
    "axes[1, 1].set_aspect(1)\n",
    "ax_out = axes[1, 1].imshow([[0]])\n",
    "\n",
    "features = np.random.randint(low=0, high=dim_3, size=3)\n",
    "\n",
    "draw_pictires(ax_gt, ax_out, ax_mod, encoder, decoder, train_data)"
   ]
  }
 ],
 "metadata": {
  "kernelspec": {
   "display_name": "Python 3",
   "language": "python",
   "name": "python3"
  },
  "language_info": {
   "codemirror_mode": {
    "name": "ipython",
    "version": 3
   },
   "file_extension": ".py",
   "mimetype": "text/x-python",
   "name": "python",
   "nbconvert_exporter": "python",
   "pygments_lexer": "ipython3",
   "version": "3.10.7"
  },
  "orig_nbformat": 4,
  "vscode": {
   "interpreter": {
    "hash": "52634da84371cba311ea128a5ea7cdc41ff074b781779e754b270ff9f8153cee"
   }
  }
 },
 "nbformat": 4,
 "nbformat_minor": 2
}
